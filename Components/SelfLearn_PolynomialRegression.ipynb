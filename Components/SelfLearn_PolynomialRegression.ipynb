{
 "cells": [
  {
   "cell_type": "code",
   "execution_count": 7,
   "metadata": {},
   "outputs": [],
   "source": [
    "import numpy as np\n",
    "# Generate non-linear data\n",
    "m = 100\n",
    "X = 6*np.random.rand(m,1)-3\n",
    "y = 0.5 * X**2 + X + 2 + np.random.randn(m,1)"
   ]
  },
  {
   "cell_type": "code",
   "execution_count": 8,
   "metadata": {},
   "outputs": [
    {
     "name": "stdout",
     "output_type": "stream",
     "text": [
      "('X[0]: ', array([ 0.2890661]))\n",
      "('X_poly[0]: ', array([ 0.2890661 ,  0.08355921]))\n"
     ]
    },
    {
     "data": {
      "text/plain": [
       "LinearRegression(copy_X=True, fit_intercept=True, n_jobs=1, normalize=False)"
      ]
     },
     "execution_count": 8,
     "metadata": {},
     "output_type": "execute_result"
    }
   ],
   "source": [
    "from sklearn.preprocessing import PolynomialFeatures\n",
    "from sklearn.linear_model import LinearRegression\n",
    "\n",
    "polyFeatures = PolynomialFeatures(degree=2, include_bias=False)\n",
    "X_poly = polyFeatures.fit_transform(X)\n",
    "\n",
    "print(\"X[0]: \", X[0])\n",
    "print(\"X_poly[0]: \", X_poly[0])\n",
    "\n",
    "linearRegressionModel = LinearRegression()\n",
    "linearRegressionModel.fit(X_poly, y)"
   ]
  },
  {
   "cell_type": "code",
   "execution_count": 9,
   "metadata": {},
   "outputs": [
    {
     "name": "stdout",
     "output_type": "stream",
     "text": [
      "('linearRegressionModel.coef_ : ', array([[ 1.0651284 ,  0.50503485]]))\n",
      "('linearRegressionModel.intercept_ : ', array([ 1.93707265]))\n"
     ]
    }
   ],
   "source": [
    "print(\"linearRegressionModel.coef_ : \", linearRegressionModel.coef_)\n",
    "print(\"linearRegressionModel.intercept_ : \", linearRegressionModel.intercept_)"
   ]
  }
 ],
 "metadata": {
  "kernelspec": {
   "display_name": "Python 2",
   "language": "python",
   "name": "python2"
  },
  "language_info": {
   "codemirror_mode": {
    "name": "ipython",
    "version": 2
   },
   "file_extension": ".py",
   "mimetype": "text/x-python",
   "name": "python",
   "nbconvert_exporter": "python",
   "pygments_lexer": "ipython2",
   "version": "2.7.12"
  }
 },
 "nbformat": 4,
 "nbformat_minor": 2
}
