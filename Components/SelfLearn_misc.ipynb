{
 "cells": [
  {
   "cell_type": "code",
   "execution_count": 2,
   "metadata": {},
   "outputs": [],
   "source": [
    "import numpy as np\n",
    "import matplotlib.pyplot as plt\n",
    "from sklearn.metrics import mean_squared_error\n",
    "from sklearn.model_selection import train_test_split\n",
    "\n",
    "def plotLearningCurve(model, X, y):\n",
    "    \n",
    "    X_train, X_val, y_train, y_val = train_test_split(X, y, test_size=0.2)\n",
    "    trainError, valError = [],[]\n",
    "    \n",
    "    for m in range(1, len(X_train)):\n",
    "        \n",
    "        model.fit(X_train[:m], y_train[:m])\n",
    "        y_train_pred = model.predict(X_train[:m])\n",
    "        y_val_pred = model.predict(X_val[:m])\n",
    "        \n",
    "        trainError.append(mean_squared_error(y_train_pred, y_train[:m]))\n",
    "        valError.append(mean_squared_error(y_val_pred, y_val[:m]))\n",
    "        \n",
    "    plt.plot(np.sqrt(trainError), 'r-+', linewidth=2, label=\"Train Error\")\n",
    "    plt.plot(np.sqrt(valError), 'b-', linewidth=2, label=\"Validation Error\")\n",
    "    plt.show()\n"
   ]
  },
  {
   "cell_type": "code",
   "execution_count": 3,
   "metadata": {},
   "outputs": [
    {
     "data": {
      "image/png": "[encoded data removed]",
      "text/plain": [
       "<matplotlib.figure.Figure at 0x7fc683365750>"
      ]
     },
     "metadata": {},
     "output_type": "display_data"
    }
   ],
   "source": [
    "from sklearn.linear_model import LinearRegression\n",
    "\n",
    "m=100\n",
    "X = 6*np.random.rand(m,1)-3\n",
    "y = 0.5*X**2+X+2+np.random.randn(m,1)\n",
    "\n",
    "linearModel = LinearRegression()\n",
    "plotLearningCurve(linearModel, X, y)"
   ]
  },
  {
   "cell_type": "markdown",
   "metadata": {},
   "source": [
    "# Regularized Regression"
   ]
  },
  {
   "cell_type": "markdown",
   "metadata": {},
   "source": [
    "### Ridge regression"
   ]
  },
  {
   "cell_type": "raw",
   "metadata": {},
   "source": [
    "a.k.a Tikhonov Regression\n",
    "Data should be standardized/scaled before regularizing\n",
    "(alpha) * summation of (theta)^2 is the regularization term\n",
    "Bias term is excluded from regularization\n",
    "The extent of regularization is controlled by alpha, greater the value of alpha, lower the regularized weights\n",
    "Applied to the cost function only during training phase, and the weights are evaluated in unregularized form\n",
    "Implementations: Closed-form equation (Matrix Factorization technique involved) or Gradient Descent, both available in Scikit Learn\n"
   ]
  },
  {
   "cell_type": "code",
   "execution_count": 6,
   "metadata": {},
   "outputs": [
    {
     "name": "stdout",
     "output_type": "stream",
     "text": [
      "('Ridge: ', array([[ 5.20391493]]))\n",
      "('SGD: ', array([ 4.36879268]))\n"
     ]
    }
   ],
   "source": [
    "from sklearn.linear_model import Ridge, SGDRegressor\n",
    "\n",
    "ridgeRegression = Ridge(alpha=1, solver='cholesky')\n",
    "sgd = SGDRegressor(penalty='l2')\n",
    "\n",
    "ridgeRegression.fit(X, y)\n",
    "print(\"Ridge: \", ridgeRegression.predict([[1.55]]))\n",
    "\n",
    "sgd.fit(X, y.ravel())\n",
    "print(\"SGD: \", sgd.predict([[1.55]]))"
   ]
  },
  {
   "cell_type": "markdown",
   "metadata": {},
   "source": [
    "### Lasso regression"
   ]
  },
  {
   "cell_type": "raw",
   "metadata": {},
   "source": [
    "Uses l1-norm, hence some of the features are wipe-out on regularization\n",
    "Acts as a feature selector\n",
    "Non-differentiable (?)"
   ]
  },
  {
   "cell_type": "code",
   "execution_count": 8,
   "metadata": {},
   "outputs": [
    {
     "name": "stdout",
     "output_type": "stream",
     "text": [
      "('Lasso: ', array([ 5.16696486]))\n"
     ]
    }
   ],
   "source": [
    "from sklearn.linear_model import Lasso\n",
    "\n",
    "lassoRegression = Lasso(alpha=0.1)\n",
    "lassoRegression.fit(X, y)\n",
    "\n",
    "print(\"Lasso: \", lassoRegression.predict([[1.55]]))"
   ]
  },
  {
   "cell_type": "markdown",
   "metadata": {},
   "source": [
    "### Elastic Net"
   ]
  },
  {
   "cell_type": "raw",
   "metadata": {},
   "source": [
    "Its a mix of above 2\n",
    "contains both regularization terms, managed by a ratio parameter similar to alpha"
   ]
  },
  {
   "cell_type": "code",
   "execution_count": 9,
   "metadata": {},
   "outputs": [
    {
     "name": "stdout",
     "output_type": "stream",
     "text": [
      "('Elastic Net: ', array([ 5.16765529]))\n"
     ]
    }
   ],
   "source": [
    "from sklearn.linear_model import ElasticNet\n",
    "\n",
    "elasticNetRegression = ElasticNet(alpha=0.1, l1_ratio=0.4)\n",
    "elasticNetRegression.fit(X, y)\n",
    "print(\"Elastic Net: \", elasticNetRegression.predict([[1.55]]))"
   ]
  }
 ],
 "metadata": {
  "kernelspec": {
   "display_name": "Python 2",
   "language": "python",
   "name": "python2"
  },
  "language_info": {
   "codemirror_mode": {
    "name": "ipython",
    "version": 2
   },
   "file_extension": ".py",
   "mimetype": "text/x-python",
   "name": "python",
   "nbconvert_exporter": "python",
   "pygments_lexer": "ipython2",
   "version": "2.7.12"
  }
 },
 "nbformat": 4,
 "nbformat_minor": 2
}
