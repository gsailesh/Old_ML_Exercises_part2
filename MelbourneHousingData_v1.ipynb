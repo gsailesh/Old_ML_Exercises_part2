{
 "cells": [
  {
   "cell_type": "code",
   "execution_count": 48,
   "metadata": {},
   "outputs": [],
   "source": [
    "import pandas as pd\n",
    "from sklearn.tree import DecisionTreeRegressor\n",
    "from sklearn.ensemble import RandomForestRegressor\n",
    "from sklearn.model_selection import train_test_split\n",
    "from sklearn.metrics import mean_absolute_error"
   ]
  },
  {
   "cell_type": "code",
   "execution_count": 2,
   "metadata": {},
   "outputs": [
    {
     "name": "stdout",
     "output_type": "stream",
     "text": [
      "         Unnamed: 0         Rooms         Price      Distance      Postcode  \\\n",
      "count  18396.000000  18396.000000  1.839600e+04  18395.000000  18395.000000   \n",
      "mean   11826.787073      2.935040  1.056697e+06     10.389986   3107.140147   \n",
      "std     6800.710448      0.958202  6.419217e+05      6.009050     95.000995   \n",
      "min        1.000000      1.000000  8.500000e+04      0.000000   3000.000000   \n",
      "25%     5936.750000      2.000000  6.330000e+05      6.300000   3046.000000   \n",
      "50%    11820.500000      3.000000  8.800000e+05      9.700000   3085.000000   \n",
      "75%    17734.250000      3.000000  1.302000e+06     13.300000   3149.000000   \n",
      "max    23546.000000     12.000000  9.000000e+06     48.100000   3978.000000   \n",
      "\n",
      "           Bedroom2      Bathroom           Car       Landsize  BuildingArea  \\\n",
      "count  14927.000000  14925.000000  14820.000000   13603.000000   7762.000000   \n",
      "mean       2.913043      1.538492      1.615520     558.116371    151.220219   \n",
      "std        0.964641      0.689311      0.955916    3987.326586    519.188596   \n",
      "min        0.000000      0.000000      0.000000       0.000000      0.000000   \n",
      "25%        2.000000      1.000000      1.000000     176.500000     93.000000   \n",
      "50%        3.000000      1.000000      2.000000     440.000000    126.000000   \n",
      "75%        3.000000      2.000000      2.000000     651.000000    174.000000   \n",
      "max       20.000000      8.000000     10.000000  433014.000000  44515.000000   \n",
      "\n",
      "         YearBuilt     Lattitude    Longtitude  Propertycount  \n",
      "count  8958.000000  15064.000000  15064.000000   18395.000000  \n",
      "mean   1965.879996    -37.809849    144.996338    7517.975265  \n",
      "std      37.013261      0.081152      0.106375    4488.416599  \n",
      "min    1196.000000    -38.182550    144.431810     249.000000  \n",
      "25%    1950.000000    -37.858100    144.931193    4294.000000  \n",
      "50%    1970.000000    -37.803625    145.000920    6567.000000  \n",
      "75%    2000.000000    -37.756270    145.060000   10331.000000  \n",
      "max    2018.000000    -37.408530    145.526350   21650.000000  \n"
     ]
    }
   ],
   "source": [
    "melbourne_housing_dataset = pd.read_csv('data/melb_data.csv')\n",
    "print(melbourne_housing_dataset.describe())"
   ]
  },
  {
   "cell_type": "code",
   "execution_count": 36,
   "metadata": {},
   "outputs": [
    {
     "name": "stdout",
     "output_type": "stream",
     "text": [
      "('No. of columns: ', Index([u'Unnamed: 0', u'Suburb', u'Address', u'Rooms', u'Type', u'Price',\n",
      "       u'Method', u'SellerG', u'Date', u'Distance', u'Postcode', u'Bedroom2',\n",
      "       u'Bathroom', u'Car', u'Landsize', u'BuildingArea', u'YearBuilt',\n",
      "       u'CouncilArea', u'Lattitude', u'Longtitude', u'Regionname',\n",
      "       u'Propertycount'],\n",
      "      dtype='object'))\n",
      "('Size of dataset: ', 404712, ', cleaned: ', 136312)\n"
     ]
    }
   ],
   "source": [
    "melbourne_housing_dataset_cleaned = melbourne_housing_dataset.dropna()\n",
    "print(\"No. of columns: \",melbourne_housing_dataset.columns)\n",
    "print(\"Size of dataset: \", melbourne_housing_dataset.size, \", cleaned: \", melbourne_housing_dataset_cleaned.size)"
   ]
  },
  {
   "cell_type": "code",
   "execution_count": 42,
   "metadata": {},
   "outputs": [],
   "source": [
    "predictors = ['Rooms', 'Distance', 'Bathroom', 'Car', 'Longtitude', 'Lattitude']\n",
    "X = melbourne_housing_dataset_cleaned[predictors]\n",
    "y = melbourne_housing_dataset_cleaned.Price\n",
    "\n",
    "X_train, X_val, y_train, y_val = train_test_split(X, y, random_state = 0)"
   ]
  },
  {
   "cell_type": "code",
   "execution_count": 43,
   "metadata": {},
   "outputs": [
    {
     "data": {
      "text/plain": [
       "DecisionTreeRegressor(criterion='mse', max_depth=None, max_features=None,\n",
       "           max_leaf_nodes=None, min_impurity_decrease=0.0,\n",
       "           min_impurity_split=None, min_samples_leaf=1,\n",
       "           min_samples_split=2, min_weight_fraction_leaf=0.0,\n",
       "           presort=False, random_state=None, splitter='best')"
      ]
     },
     "execution_count": 43,
     "metadata": {},
     "output_type": "execute_result"
    }
   ],
   "source": [
    "model_DT = DecisionTreeRegressor()\n",
    "model_DT.fit(X_train,y_train)"
   ]
  },
  {
   "cell_type": "code",
   "execution_count": 45,
   "metadata": {},
   "outputs": [
    {
     "name": "stdout",
     "output_type": "stream",
     "text": [
      "('Mean Absolute Error: ', 310398.86679578223)\n"
     ]
    }
   ],
   "source": [
    "y_pred = model_DT.predict(X_val)\n",
    "print(\"Mean Absolute Error: \", mean_absolute_error(y_val, y_pred))"
   ]
  },
  {
   "cell_type": "code",
   "execution_count": 47,
   "metadata": {},
   "outputs": [
    {
     "name": "stdout",
     "output_type": "stream",
     "text": [
      "Max Leaf Nodes: 5, MAE: 379328.880697\n",
      "Max Leaf Nodes: 50, MAE: 282655.919742\n",
      "Max Leaf Nodes: 100, MAE: 275613.719891\n",
      "Max Leaf Nodes: 500, MAE: 278658.149748\n"
     ]
    }
   ],
   "source": [
    "def assessDecisionTreeMAE(max_leaf_nodes, X_train, y_train, X_val, y_val):\n",
    "    dt = DecisionTreeRegressor(max_leaf_nodes=max_leaf_nodes, random_state = 52)\n",
    "    dt.fit(X_train, y_train)\n",
    "    y_pred = dt.predict(X_val)\n",
    "    return mean_absolute_error(y_val, y_pred)\n",
    "\n",
    "for leaves in [5,50,100,500]:\n",
    "    print(\"Max Leaf Nodes: %d, MAE: %f\" % (leaves,assessDecisionTreeMAE(leaves, X_train, y_train, X_val, y_val)))"
   ]
  },
  {
   "cell_type": "code",
   "execution_count": 49,
   "metadata": {},
   "outputs": [
    {
     "data": {
      "text/plain": [
       "RandomForestRegressor(bootstrap=True, criterion='mse', max_depth=None,\n",
       "           max_features='auto', max_leaf_nodes=None,\n",
       "           min_impurity_decrease=0.0, min_impurity_split=None,\n",
       "           min_samples_leaf=1, min_samples_split=2,\n",
       "           min_weight_fraction_leaf=0.0, n_estimators=10, n_jobs=1,\n",
       "           oob_score=False, random_state=None, verbose=0, warm_start=False)"
      ]
     },
     "execution_count": 49,
     "metadata": {},
     "output_type": "execute_result"
    }
   ],
   "source": [
    "model_RF = RandomForestRegressor()\n",
    "model_RF.fit(X_train, y_train)"
   ]
  },
  {
   "cell_type": "code",
   "execution_count": 50,
   "metadata": {},
   "outputs": [
    {
     "name": "stdout",
     "output_type": "stream",
     "text": [
      "('Mean Abs. Error: ', 256159.68143195304)\n"
     ]
    }
   ],
   "source": [
    "y_pred_RF = model_RF.predict(X_val)\n",
    "print(\"Mean Abs. Error: \", mean_absolute_error(y_val, y_pred_RF))"
   ]
  }
 ],
 "metadata": {
  "kernelspec": {
   "display_name": "Python 2",
   "language": "python",
   "name": "python2"
  },
  "language_info": {
   "codemirror_mode": {
    "name": "ipython",
    "version": 2
   },
   "file_extension": ".py",
   "mimetype": "text/x-python",
   "name": "python",
   "nbconvert_exporter": "python",
   "pygments_lexer": "ipython2",
   "version": "2.7.12"
  }
 },
 "nbformat": 4,
 "nbformat_minor": 2
}
