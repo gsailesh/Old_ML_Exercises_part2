{
 "cells": [
  {
   "cell_type": "code",
   "execution_count": 1,
   "metadata": {},
   "outputs": [
    {
     "data": {
      "text/plain": [
       "(70000, 784)"
      ]
     },
     "execution_count": 1,
     "metadata": {},
     "output_type": "execute_result"
    }
   ],
   "source": [
    "from sklearn.datasets import fetch_mldata\n",
    "try:\n",
    "    mnist = fetch_mldata('MNIST original', data_home = '/home/saileshg/sailspace/dev/pyprojects/handson-ml-master/datasets/')\n",
    "except:\n",
    "    print(\"Error fetching dataset!\")\n",
    "\n",
    "mnist.data.shape"
   ]
  },
  {
   "cell_type": "code",
   "execution_count": 2,
   "metadata": {},
   "outputs": [
    {
     "name": "stdout",
     "output_type": "stream",
     "text": [
      "('X_train: ', (60000, 784), 'y_train: ', (60000,), 'X_test: ', (10000, 784), 'y_test: ', (10000,))\n"
     ]
    }
   ],
   "source": [
    "X_train, y_train, X_test, y_test = mnist['data'][:60000], mnist['target'][:60000], mnist['data'][60000:], mnist['target'][60000:]\n",
    "print(\"X_train: \", X_train.shape, \"y_train: \", y_train.shape, \"X_test: \", X_test.shape, \"y_test: \", y_test.shape)"
   ]
  },
  {
   "cell_type": "code",
   "execution_count": 3,
   "metadata": {},
   "outputs": [
    {
     "name": "stdout",
     "output_type": "stream",
     "text": [
      "('cross-val-score for RF: ', array([ 0.94394002,  0.94159307,  0.94083333,  0.93898475,  0.94764922]))\n",
      "('y_rf_pred shape: ', (60000, 10))\n"
     ]
    }
   ],
   "source": [
    "import numpy as np\n",
    "from sklearn.model_selection import StratifiedKFold\n",
    "from sklearn.preprocessing import StandardScaler\n",
    "\n",
    "scaler = StandardScaler()\n",
    "skfold = StratifiedKFold(n_splits = 5, random_state = 42)\n",
    "\n",
    "X_train_scaled = scaler.fit_transform(X_train.astype(np.float64))\n",
    "X_test_scaled = scaler.fit_transform(X_test.astype(np.float64))\n",
    "\n",
    "from sklearn.ensemble import RandomForestClassifier\n",
    "rf = RandomForestClassifier(random_state = 42)\n",
    "\n",
    "from sklearn.model_selection import cross_val_score, cross_val_predict\n",
    "# print(\"cross-val-score for KNN: \", cross_val_score(knn, X_train_scaled, y_train, cv=5, scoring = \"accuracy\"))\n",
    "print(\"cross-val-score for RF: \", cross_val_score(rf, X_train_scaled, y_train, cv=5, scoring = \"accuracy\"))\n",
    "rf.fit(X_train_scaled, y_train)\n",
    "y_rf_pred = cross_val_predict(rf, X_train_scaled, y_train, cv=5, method = \"predict_proba\")\n",
    "print('y_rf_pred shape: ', y_rf_pred.shape)"
   ]
  },
  {
   "cell_type": "code",
   "execution_count": 4,
   "metadata": {},
   "outputs": [
    {
     "name": "stdout",
     "output_type": "stream",
     "text": [
      "('Accuracy with RF on training data: ', 0.94259999999999999)\n"
     ]
    }
   ],
   "source": [
    "\n",
    "y_train_pred_class = [np.argmax(y_tmp) for y_tmp in y_rf_pred]#index of max of each row of 'y_rf_pred'\n",
    "# print('y_train_pred_class: ',y_train_pred_class)\n",
    "rf_train_accuracy = sum(y_train_pred_class == y_train)\n",
    "print(\"Accuracy with RF on training data: \", rf_train_accuracy/float(y_train.shape[0]))"
   ]
  },
  {
   "cell_type": "code",
   "execution_count": 5,
   "metadata": {},
   "outputs": [
    {
     "name": "stdout",
     "output_type": "stream",
     "text": [
      "('Accuracy with RF on test data: ', 0.82189999999999996)\n"
     ]
    }
   ],
   "source": [
    "rf_test_pred = rf.predict_proba(X_test_scaled)\n",
    "# rf_test_pred.shape\n",
    "rf_test_pred_class = [np.argmax(y_tmp) for y_tmp in rf_test_pred]\n",
    "rf_test_accuracy = sum(rf_test_pred_class == y_test)\n",
    "print(\"Accuracy with RF on test data: \", rf_test_accuracy/float(y_test.shape[0]))"
   ]
  },
  {
   "cell_type": "code",
   "execution_count": 9,
   "metadata": {},
   "outputs": [
    {
     "name": "stdout",
     "output_type": "stream",
     "text": [
      "('Accuracy with KNN on test data: ', 0.098000000000000004)\n"
     ]
    }
   ],
   "source": [
    "# Using KNN with Grid search for optimal params\n",
    "from sklearn.neighbors import KNeighborsClassifier\n",
    "# from sklearn.model_selection import GridSearchCV\n",
    "knn = KNeighborsClassifier(n_neighbors=10)\n",
    "# paramGrid = [{\"weights\":['uniform','distance']}]\n",
    "# gridSearch = GridSearchCV(knn,paramGrid, cv=2)\n",
    "# gridSearch.fit(X_train_scaled,y_train)\n",
    "knn.fit(X_train_scaled,y_train)\n",
    "y_knn_pred = knn.predict_proba(X_test_scaled)\n",
    "knn_test_pred_class = [np.argmax(y_tmp) for y_tmp in y_knn_pred]\n",
    "knn_test_accuracy = sum(knn_test_pred_class == y_test)\n",
    "print(\"Accuracy with KNN on test data: \", knn_test_accuracy/float(y_test.shape[0]))"
   ]
  },
  {
   "cell_type": "code",
   "execution_count": 7,
   "metadata": {},
   "outputs": [],
   "source": [
    "# print(\"Best params: \", gridSearch.best_params_)\n",
    "# print(\"Best estimator: \", gridSearch.best_estimator_)\n",
    "# print(\"Feature importances: \", gridSearch.best_params_.feature_importances_)"
   ]
  }
 ],
 "metadata": {
  "kernelspec": {
   "display_name": "Python 2",
   "language": "python",
   "name": "python2"
  },
  "language_info": {
   "codemirror_mode": {
    "name": "ipython",
    "version": 2
   },
   "file_extension": ".py",
   "mimetype": "text/x-python",
   "name": "python",
   "nbconvert_exporter": "python",
   "pygments_lexer": "ipython2",
   "version": "2.7.12"
  }
 },
 "nbformat": 4,
 "nbformat_minor": 2
}
