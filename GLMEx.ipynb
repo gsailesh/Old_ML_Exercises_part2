{
 "cells": [
  {
   "cell_type": "code",
   "execution_count": 1,
   "metadata": {},
   "outputs": [
    {
     "name": "stdout",
     "output_type": "stream",
     "text": [
      "Automatically created module for IPython interactive environment\n"
     ]
    }
   ],
   "source": [
    "import numpy as np\n",
    "from sklearn import datasets, linear_model\n",
    "from sklearn.metrics import mean_squared_error, r2_score\n",
    "import pandas as pd\n",
    "import matplotlib.pyplot as plt\n",
    "\n",
    "print(__doc__)"
   ]
  },
  {
   "cell_type": "code",
   "execution_count": 2,
   "metadata": {},
   "outputs": [
    {
     "name": "stdout",
     "output_type": "stream",
     "text": [
      "('X_diabetes shape: ', (442, 1), ', Y_diabetes shape: ', (442, 1))\n"
     ]
    }
   ],
   "source": [
    "diabetes = datasets.load_diabetes()\n",
    "# X_diabetes = diabetes.data\n",
    "\n",
    "'''\n",
    "numpy's newaxis will return a column vector\n",
    "the last arg specifies the column index\n",
    "this is only a simple linear regression\n",
    "'''\n",
    "X_diabetes = pd.DataFrame(diabetes.data[:, np.newaxis, 2])\n",
    "y_diabetes = pd.DataFrame(diabetes.target)\n",
    "\n",
    "# Y_diabetes.head()\n",
    "print(\"X_diabetes shape: \", X_diabetes.shape, \", Y_diabetes shape: \", y_diabetes.shape)"
   ]
  },
  {
   "cell_type": "code",
   "execution_count": 3,
   "metadata": {},
   "outputs": [
    {
     "name": "stdout",
     "output_type": "stream",
     "text": [
      "('Train size: ', (422, 1), ', Test size: ', (20, 1))\n"
     ]
    }
   ],
   "source": [
    "X_train = X_diabetes[:-20]\n",
    "X_test = X_diabetes[-20:]\n",
    "y_train = y_diabetes[:-20]\n",
    "y_test = y_diabetes[-20:]\n",
    "\n",
    "X_test = X_test.reset_index(drop=True)\n",
    "y_test = y_test.reset_index(drop=True)\n",
    "\n",
    "print(\"Train size: \", X_train.shape, \", Test size: \", X_test.shape)"
   ]
  },
  {
   "cell_type": "code",
   "execution_count": 4,
   "metadata": {},
   "outputs": [
    {
     "name": "stdout",
     "output_type": "stream",
     "text": [
      "('Regression coefficients: ', array([[ 938.23786125]]))\n",
      "Mean squared error: 2548.07\n",
      "R2 measure for explained variance: 0.47\n"
     ]
    }
   ],
   "source": [
    "linearRegression = linear_model.LinearRegression()\n",
    "linearRegression.fit(X_train, y_train)\n",
    "predictions = linearRegression.predict(X_test)\n",
    "\n",
    "print('Regression coefficients: ', linearRegression.coef_)\n",
    "print('Mean squared error: %.2f' % mean_squared_error(y_test, predictions))\n",
    "print('R2 measure for explained variance: %.2f' % r2_score(y_test, predictions))"
   ]
  },
  {
   "cell_type": "code",
   "execution_count": 5,
   "metadata": {},
   "outputs": [
    {
     "data": {
      "text/html": [
       "<div>\n",
       "<style>\n",
       "    .dataframe thead tr:only-child th {\n",
       "        text-align: right;\n",
       "    }\n",
       "\n",
       "    .dataframe thead th {\n",
       "        text-align: left;\n",
       "    }\n",
       "\n",
       "    .dataframe tbody tr th {\n",
       "        vertical-align: top;\n",
       "    }\n",
       "</style>\n",
       "<table border=\"1\" class=\"dataframe\">\n",
       "  <thead>\n",
       "    <tr style=\"text-align: right;\">\n",
       "      <th></th>\n",
       "      <th>X</th>\n",
       "      <th>y</th>\n",
       "      <th>pred</th>\n",
       "    </tr>\n",
       "  </thead>\n",
       "  <tbody>\n",
       "    <tr>\n",
       "      <th>0</th>\n",
       "      <td>0.077863</td>\n",
       "      <td>233.0</td>\n",
       "      <td>225.973240</td>\n",
       "    </tr>\n",
       "    <tr>\n",
       "      <th>1</th>\n",
       "      <td>-0.039618</td>\n",
       "      <td>91.0</td>\n",
       "      <td>115.747634</td>\n",
       "    </tr>\n",
       "    <tr>\n",
       "      <th>2</th>\n",
       "      <td>0.011039</td>\n",
       "      <td>111.0</td>\n",
       "      <td>163.276106</td>\n",
       "    </tr>\n",
       "    <tr>\n",
       "      <th>3</th>\n",
       "      <td>-0.040696</td>\n",
       "      <td>152.0</td>\n",
       "      <td>114.736390</td>\n",
       "    </tr>\n",
       "    <tr>\n",
       "      <th>4</th>\n",
       "      <td>-0.034229</td>\n",
       "      <td>120.0</td>\n",
       "      <td>120.803854</td>\n",
       "    </tr>\n",
       "  </tbody>\n",
       "</table>\n",
       "</div>"
      ],
      "text/plain": [
       "          X      y        pred\n",
       "0  0.077863  233.0  225.973240\n",
       "1 -0.039618   91.0  115.747634\n",
       "2  0.011039  111.0  163.276106\n",
       "3 -0.040696  152.0  114.736390\n",
       "4 -0.034229  120.0  120.803854"
      ]
     },
     "execution_count": 5,
     "metadata": {},
     "output_type": "execute_result"
    }
   ],
   "source": [
    "result = pd.concat([X_test, y_test, pd.DataFrame(predictions)], axis=1)\n",
    "result.columns = ['X','y','pred']\n",
    "result.head()"
   ]
  },
  {
   "cell_type": "code",
   "execution_count": 6,
   "metadata": {},
   "outputs": [
    {
     "name": "stdout",
     "output_type": "stream",
     "text": [
      "Optimal alpha among the given options: 0.00\n"
     ]
    }
   ],
   "source": [
    "'''\n",
    "Ridge regression penalizes the coefficient based on a control parameter alpha.\n",
    "Larger the value of alpha, greater the shrinkage of regression coefficients.\n",
    "\n",
    "Cross-validated Ridge regression:\n",
    "Similar to GridSearchCV, but defaults to Generalized cross-validations -- an efficient form of LeaveOneOutCV\n",
    "'''\n",
    "ridgeCV = linear_model.RidgeCV(alphas = np.logspace(-10, -2, 100))\n",
    "ridgeCV.fit(X_train, y_train)\n",
    "print('Optimal alpha among the given options: %.2f'% ridgeCV.alpha_)"
   ]
  },
  {
   "cell_type": "code",
   "execution_count": 7,
   "metadata": {},
   "outputs": [
    {
     "name": "stdout",
     "output_type": "stream",
     "text": [
      "('Ridge coefficients: ', 934.38157163264179)\n",
      "Mean squared error: 2552.49\n",
      "R2 measure for explained variability: 0.47\n"
     ]
    }
   ],
   "source": [
    "ridgeRegression = linear_model.Ridge(alpha = ridgeCV.alpha_)\n",
    "ridgeRegression.fit(X_train, y_train)\n",
    "predictionsRidge = ridgeRegression.predict(X_test)\n",
    "print('Ridge coefficients: ', ridgeRegression.coef_[0][0])\n",
    "print('Mean squared error: %.2f' % mean_squared_error(y_test, predictionsRidge))\n",
    "print('R2 measure for explained variability: %.2f' % r2_score(y_test, predictionsRidge))"
   ]
  },
  {
   "cell_type": "code",
   "execution_count": 8,
   "metadata": {},
   "outputs": [
    {
     "data": {
      "text/html": [
       "<div>\n",
       "<style>\n",
       "    .dataframe thead tr:only-child th {\n",
       "        text-align: right;\n",
       "    }\n",
       "\n",
       "    .dataframe thead th {\n",
       "        text-align: left;\n",
       "    }\n",
       "\n",
       "    .dataframe tbody tr th {\n",
       "        vertical-align: top;\n",
       "    }\n",
       "</style>\n",
       "<table border=\"1\" class=\"dataframe\">\n",
       "  <thead>\n",
       "    <tr style=\"text-align: right;\">\n",
       "      <th></th>\n",
       "      <th>X</th>\n",
       "      <th>y</th>\n",
       "      <th>pred_linear</th>\n",
       "      <th>pred_ridge</th>\n",
       "    </tr>\n",
       "  </thead>\n",
       "  <tbody>\n",
       "    <tr>\n",
       "      <th>0</th>\n",
       "      <td>0.077863</td>\n",
       "      <td>233.0</td>\n",
       "      <td>225.973240</td>\n",
       "      <td>225.674800</td>\n",
       "    </tr>\n",
       "    <tr>\n",
       "      <th>1</th>\n",
       "      <td>-0.039618</td>\n",
       "      <td>91.0</td>\n",
       "      <td>115.747634</td>\n",
       "      <td>115.902236</td>\n",
       "    </tr>\n",
       "    <tr>\n",
       "      <th>2</th>\n",
       "      <td>0.011039</td>\n",
       "      <td>111.0</td>\n",
       "      <td>163.276106</td>\n",
       "      <td>163.235360</td>\n",
       "    </tr>\n",
       "    <tr>\n",
       "      <th>3</th>\n",
       "      <td>-0.040696</td>\n",
       "      <td>152.0</td>\n",
       "      <td>114.736390</td>\n",
       "      <td>114.895149</td>\n",
       "    </tr>\n",
       "    <tr>\n",
       "      <th>4</th>\n",
       "      <td>-0.034229</td>\n",
       "      <td>120.0</td>\n",
       "      <td>120.803854</td>\n",
       "      <td>120.937675</td>\n",
       "    </tr>\n",
       "  </tbody>\n",
       "</table>\n",
       "</div>"
      ],
      "text/plain": [
       "          X      y  pred_linear  pred_ridge\n",
       "0  0.077863  233.0   225.973240  225.674800\n",
       "1 -0.039618   91.0   115.747634  115.902236\n",
       "2  0.011039  111.0   163.276106  163.235360\n",
       "3 -0.040696  152.0   114.736390  114.895149\n",
       "4 -0.034229  120.0   120.803854  120.937675"
      ]
     },
     "execution_count": 8,
     "metadata": {},
     "output_type": "execute_result"
    }
   ],
   "source": [
    "result = pd.concat([X_test, y_test, pd.DataFrame(predictions), pd.DataFrame(predictionsRidge)], axis=1)\n",
    "result.columns = ['X', 'y', 'pred_linear', 'pred_ridge']\n",
    "\n",
    "result.head()"
   ]
  },
  {
   "cell_type": "code",
   "execution_count": 9,
   "metadata": {},
   "outputs": [
    {
     "data": {
      "image/png": "[encoded data removed]",
      "text/plain": [
       "<matplotlib.figure.Figure at 0x7f021e416e10>"
      ]
     },
     "metadata": {},
     "output_type": "display_data"
    }
   ],
   "source": [
    "'''\n",
    "Visualize the weight-alpha relationship\n",
    "'''\n",
    "coeffs = []; coeffsLasso = []\n",
    "alphas = np.logspace(-10, -2, 100)\n",
    "\n",
    "for alpha in alphas:\n",
    "    ridgeFit = linear_model.Ridge(alpha=alpha, fit_intercept=False)\n",
    "    ridgeFit.fit(X_train, y_train)\n",
    "    coeffs.append(ridgeFit.coef_[0][0])\n",
    "    \n",
    "    lassoFit = linear_model.Lasso(alpha=alpha, fit_intercept=False)\n",
    "    lassoFit.fit(X_train, y_train)\n",
    "    coeffsLasso.append(lassoFit.coef_)\n",
    "\n",
    "ax = plt.gca()\n",
    "\n",
    "ax.plot(alphas, coeffs)\n",
    "ax.plot(alphas, coeffsLasso)\n",
    "ax.set_xscale('log')\n",
    "ax.set_xlim(ax.get_xlim()[::-1])\n",
    "ax.legend(loc='best')\n",
    "plt.xlabel('alpha')\n",
    "plt.ylabel('weights')\n",
    "plt.title('Coefficients as a function of regularization(alpha)')\n",
    "plt.axis('tight')\n",
    "plt.show()"
   ]
  },
  {
   "cell_type": "code",
   "execution_count": 10,
   "metadata": {},
   "outputs": [
    {
     "name": "stdout",
     "output_type": "stream",
     "text": [
      "Optimal alpha for Lasso Regression: 0.00\n",
      "Mean squared error: 2548.07\n",
      "R2 measure for measure of explained variability: 0.47\n"
     ]
    },
    {
     "name": "stderr",
     "output_type": "stream",
     "text": [
      "/home/saileshg/sailspace/dev/pyprojects/mlenv/local/lib/python2.7/site-packages/sklearn/linear_model/coordinate_descent.py:1094: DataConversionWarning: A column-vector y was passed when a 1d array was expected. Please change the shape of y to (n_samples, ), for example using ravel().\n",
      "  y = column_or_1d(y, warn=True)\n"
     ]
    }
   ],
   "source": [
    "lassoCV = linear_model.LassoCV(alphas=alphas)\n",
    "lassoCV.fit(X_train, y_train)\n",
    "print(\"Optimal alpha for Lasso Regression: %.2f\" % lassoCV.alpha_)\n",
    "\n",
    "lassoRegression = linear_model.Lasso(alpha=lassoCV.alpha_)\n",
    "lassoRegression.fit(X_train, y_train)\n",
    "predictionsLasso = lassoRegression.predict(X_test)\n",
    "\n",
    "print(\"Mean squared error: %.2f\" % mean_squared_error(y_test, predictionsLasso))\n",
    "print(\"R2 measure for measure of explained variability: %.2f\" % r2_score(y_test, predictionsLasso))"
   ]
  },
  {
   "cell_type": "code",
   "execution_count": 11,
   "metadata": {},
   "outputs": [
    {
     "data": {
      "text/html": [
       "<div>\n",
       "<style>\n",
       "    .dataframe thead tr:only-child th {\n",
       "        text-align: right;\n",
       "    }\n",
       "\n",
       "    .dataframe thead th {\n",
       "        text-align: left;\n",
       "    }\n",
       "\n",
       "    .dataframe tbody tr th {\n",
       "        vertical-align: top;\n",
       "    }\n",
       "</style>\n",
       "<table border=\"1\" class=\"dataframe\">\n",
       "  <thead>\n",
       "    <tr style=\"text-align: right;\">\n",
       "      <th></th>\n",
       "      <th>X</th>\n",
       "      <th>y</th>\n",
       "      <th>pred_linear</th>\n",
       "      <th>pred_ridge</th>\n",
       "      <th>pred_lasso</th>\n",
       "    </tr>\n",
       "  </thead>\n",
       "  <tbody>\n",
       "    <tr>\n",
       "      <th>0</th>\n",
       "      <td>0.077863</td>\n",
       "      <td>233.0</td>\n",
       "      <td>225.973240</td>\n",
       "      <td>225.674800</td>\n",
       "      <td>225.973240</td>\n",
       "    </tr>\n",
       "    <tr>\n",
       "      <th>1</th>\n",
       "      <td>-0.039618</td>\n",
       "      <td>91.0</td>\n",
       "      <td>115.747634</td>\n",
       "      <td>115.902236</td>\n",
       "      <td>115.747634</td>\n",
       "    </tr>\n",
       "    <tr>\n",
       "      <th>2</th>\n",
       "      <td>0.011039</td>\n",
       "      <td>111.0</td>\n",
       "      <td>163.276106</td>\n",
       "      <td>163.235360</td>\n",
       "      <td>163.276106</td>\n",
       "    </tr>\n",
       "    <tr>\n",
       "      <th>3</th>\n",
       "      <td>-0.040696</td>\n",
       "      <td>152.0</td>\n",
       "      <td>114.736390</td>\n",
       "      <td>114.895149</td>\n",
       "      <td>114.736390</td>\n",
       "    </tr>\n",
       "    <tr>\n",
       "      <th>4</th>\n",
       "      <td>-0.034229</td>\n",
       "      <td>120.0</td>\n",
       "      <td>120.803854</td>\n",
       "      <td>120.937675</td>\n",
       "      <td>120.803854</td>\n",
       "    </tr>\n",
       "  </tbody>\n",
       "</table>\n",
       "</div>"
      ],
      "text/plain": [
       "          X      y  pred_linear  pred_ridge  pred_lasso\n",
       "0  0.077863  233.0   225.973240  225.674800  225.973240\n",
       "1 -0.039618   91.0   115.747634  115.902236  115.747634\n",
       "2  0.011039  111.0   163.276106  163.235360  163.276106\n",
       "3 -0.040696  152.0   114.736390  114.895149  114.736390\n",
       "4 -0.034229  120.0   120.803854  120.937675  120.803854"
      ]
     },
     "execution_count": 11,
     "metadata": {},
     "output_type": "execute_result"
    }
   ],
   "source": [
    "result = pd.concat([X_test, y_test, pd.DataFrame(predictions), pd.DataFrame(predictionsRidge), pd.DataFrame(predictionsLasso)], axis=1)\n",
    "result.columns = ['X', 'y', 'pred_linear', 'pred_ridge', 'pred_lasso']\n",
    "\n",
    "result.head()"
   ]
  },
  {
   "cell_type": "code",
   "execution_count": 12,
   "metadata": {},
   "outputs": [
    {
     "name": "stdout",
     "output_type": "stream",
     "text": [
      "Optimal alpha for Elastic Net: 0.00\n"
     ]
    }
   ],
   "source": [
    "'''\n",
    "Elastic Net Regression uses a combination of l1 & l2 norms and there's a l1-ratio param\n",
    "which decides the influence of l1 or l2 on the regularization. In this way, the combination\n",
    "of these two norms are used suitably to penalize the coefficients and thereby reach the solution.\n",
    "'''\n",
    "elasticNetCV = linear_model.ElasticNetCV(alphas=alphas, l1_ratio=0.6)\n",
    "elasticNetCV.fit(X_train, y_train)\n",
    "print(\"Optimal alpha for Elastic Net: %.2f\" % elasticNetCV.alpha_)\n",
    "\n",
    "elasticNetRegression = linear_model.ElasticNet(alpha=elasticNetCV.alpha_, l1_ratio=0.6)\n",
    "elasticNetRegression.fit(X_train, y_train)\n",
    "predictionsENet = elasticNetRegression.predict(X_test)"
   ]
  },
  {
   "cell_type": "code",
   "execution_count": 13,
   "metadata": {},
   "outputs": [
    {
     "data": {
      "text/html": [
       "<div>\n",
       "<style>\n",
       "    .dataframe thead tr:only-child th {\n",
       "        text-align: right;\n",
       "    }\n",
       "\n",
       "    .dataframe thead th {\n",
       "        text-align: left;\n",
       "    }\n",
       "\n",
       "    .dataframe tbody tr th {\n",
       "        vertical-align: top;\n",
       "    }\n",
       "</style>\n",
       "<table border=\"1\" class=\"dataframe\">\n",
       "  <thead>\n",
       "    <tr style=\"text-align: right;\">\n",
       "      <th></th>\n",
       "      <th>X</th>\n",
       "      <th>y</th>\n",
       "      <th>pred_linear</th>\n",
       "      <th>pred_ridge</th>\n",
       "      <th>pred_lasso</th>\n",
       "      <th>pred_enet</th>\n",
       "    </tr>\n",
       "  </thead>\n",
       "  <tbody>\n",
       "    <tr>\n",
       "      <th>0</th>\n",
       "      <td>0.077863</td>\n",
       "      <td>233.0</td>\n",
       "      <td>225.973240</td>\n",
       "      <td>225.674800</td>\n",
       "      <td>225.973240</td>\n",
       "      <td>225.943577</td>\n",
       "    </tr>\n",
       "    <tr>\n",
       "      <th>1</th>\n",
       "      <td>-0.039618</td>\n",
       "      <td>91.0</td>\n",
       "      <td>115.747634</td>\n",
       "      <td>115.902236</td>\n",
       "      <td>115.747634</td>\n",
       "      <td>115.763000</td>\n",
       "    </tr>\n",
       "    <tr>\n",
       "      <th>2</th>\n",
       "      <td>0.011039</td>\n",
       "      <td>111.0</td>\n",
       "      <td>163.276106</td>\n",
       "      <td>163.235360</td>\n",
       "      <td>163.276106</td>\n",
       "      <td>163.272056</td>\n",
       "    </tr>\n",
       "    <tr>\n",
       "      <th>3</th>\n",
       "      <td>-0.040696</td>\n",
       "      <td>152.0</td>\n",
       "      <td>114.736390</td>\n",
       "      <td>114.895149</td>\n",
       "      <td>114.736390</td>\n",
       "      <td>114.752169</td>\n",
       "    </tr>\n",
       "    <tr>\n",
       "      <th>4</th>\n",
       "      <td>-0.034229</td>\n",
       "      <td>120.0</td>\n",
       "      <td>120.803854</td>\n",
       "      <td>120.937675</td>\n",
       "      <td>120.803854</td>\n",
       "      <td>120.817155</td>\n",
       "    </tr>\n",
       "  </tbody>\n",
       "</table>\n",
       "</div>"
      ],
      "text/plain": [
       "          X      y  pred_linear  pred_ridge  pred_lasso   pred_enet\n",
       "0  0.077863  233.0   225.973240  225.674800  225.973240  225.943577\n",
       "1 -0.039618   91.0   115.747634  115.902236  115.747634  115.763000\n",
       "2  0.011039  111.0   163.276106  163.235360  163.276106  163.272056\n",
       "3 -0.040696  152.0   114.736390  114.895149  114.736390  114.752169\n",
       "4 -0.034229  120.0   120.803854  120.937675  120.803854  120.817155"
      ]
     },
     "execution_count": 13,
     "metadata": {},
     "output_type": "execute_result"
    }
   ],
   "source": [
    "result = pd.concat([X_test, y_test, pd.DataFrame(predictions), pd.DataFrame(predictionsRidge), pd.DataFrame(predictionsLasso), pd.DataFrame(predictionsENet)], axis=1)\n",
    "result.columns = ['X','y','pred_linear', 'pred_ridge', 'pred_lasso', 'pred_enet']\n",
    "\n",
    "result.head()"
   ]
  },
  {
   "cell_type": "code",
   "execution_count": 14,
   "metadata": {},
   "outputs": [],
   "source": [
    "'''\n",
    "Lasso combined with LARS or Least Angle Regression.\n",
    "LARS is suitable for estimation when features > samples (n > m)\n",
    "LARS - Least Angle Regression: similar to forward stepwise regression, \n",
    "identifies the most correlated attribute with the response iteratively.\n",
    "When there are more than one equally correlated attributes with the response,\n",
    "it takes up an \"equiangular\" direction of these attributes*\n",
    "'''\n",
    "lassoLars = linear_model.LassoLars(alpha=lassoCV.alpha_)\n",
    "lassoLars.fit(X_train, y_train)\n",
    "predictionsLassoLars = lassoLars.predict(X_test)"
   ]
  },
  {
   "cell_type": "code",
   "execution_count": 16,
   "metadata": {},
   "outputs": [
    {
     "data": {
      "text/html": [
       "<div>\n",
       "<style>\n",
       "    .dataframe thead tr:only-child th {\n",
       "        text-align: right;\n",
       "    }\n",
       "\n",
       "    .dataframe thead th {\n",
       "        text-align: left;\n",
       "    }\n",
       "\n",
       "    .dataframe tbody tr th {\n",
       "        vertical-align: top;\n",
       "    }\n",
       "</style>\n",
       "<table border=\"1\" class=\"dataframe\">\n",
       "  <thead>\n",
       "    <tr style=\"text-align: right;\">\n",
       "      <th></th>\n",
       "      <th>X</th>\n",
       "      <th>y</th>\n",
       "      <th>pred_linear</th>\n",
       "      <th>pred_ridge</th>\n",
       "      <th>pred_lasso</th>\n",
       "      <th>pred_enet</th>\n",
       "      <th>pred_lassolars</th>\n",
       "    </tr>\n",
       "  </thead>\n",
       "  <tbody>\n",
       "    <tr>\n",
       "      <th>0</th>\n",
       "      <td>0.077863</td>\n",
       "      <td>233.0</td>\n",
       "      <td>225.973240</td>\n",
       "      <td>225.674800</td>\n",
       "      <td>225.973240</td>\n",
       "      <td>225.943577</td>\n",
       "      <td>225.973240</td>\n",
       "    </tr>\n",
       "    <tr>\n",
       "      <th>1</th>\n",
       "      <td>-0.039618</td>\n",
       "      <td>91.0</td>\n",
       "      <td>115.747634</td>\n",
       "      <td>115.902236</td>\n",
       "      <td>115.747634</td>\n",
       "      <td>115.763000</td>\n",
       "      <td>115.747634</td>\n",
       "    </tr>\n",
       "    <tr>\n",
       "      <th>2</th>\n",
       "      <td>0.011039</td>\n",
       "      <td>111.0</td>\n",
       "      <td>163.276106</td>\n",
       "      <td>163.235360</td>\n",
       "      <td>163.276106</td>\n",
       "      <td>163.272056</td>\n",
       "      <td>163.276106</td>\n",
       "    </tr>\n",
       "    <tr>\n",
       "      <th>3</th>\n",
       "      <td>-0.040696</td>\n",
       "      <td>152.0</td>\n",
       "      <td>114.736390</td>\n",
       "      <td>114.895149</td>\n",
       "      <td>114.736390</td>\n",
       "      <td>114.752169</td>\n",
       "      <td>114.736390</td>\n",
       "    </tr>\n",
       "    <tr>\n",
       "      <th>4</th>\n",
       "      <td>-0.034229</td>\n",
       "      <td>120.0</td>\n",
       "      <td>120.803854</td>\n",
       "      <td>120.937675</td>\n",
       "      <td>120.803854</td>\n",
       "      <td>120.817155</td>\n",
       "      <td>120.803854</td>\n",
       "    </tr>\n",
       "  </tbody>\n",
       "</table>\n",
       "</div>"
      ],
      "text/plain": [
       "          X      y  pred_linear  pred_ridge  pred_lasso   pred_enet  \\\n",
       "0  0.077863  233.0   225.973240  225.674800  225.973240  225.943577   \n",
       "1 -0.039618   91.0   115.747634  115.902236  115.747634  115.763000   \n",
       "2  0.011039  111.0   163.276106  163.235360  163.276106  163.272056   \n",
       "3 -0.040696  152.0   114.736390  114.895149  114.736390  114.752169   \n",
       "4 -0.034229  120.0   120.803854  120.937675  120.803854  120.817155   \n",
       "\n",
       "   pred_lassolars  \n",
       "0      225.973240  \n",
       "1      115.747634  \n",
       "2      163.276106  \n",
       "3      114.736390  \n",
       "4      120.803854  "
      ]
     },
     "execution_count": 16,
     "metadata": {},
     "output_type": "execute_result"
    }
   ],
   "source": [
    "result = pd.concat([X_test, y_test, pd.DataFrame(predictions), pd.DataFrame(predictionsRidge), pd.DataFrame(predictionsLasso), pd.DataFrame(predictionsENet), pd.DataFrame(predictionsLassoLars)], axis = 1)\n",
    "result.columns = ['X', 'y', 'pred_linear', 'pred_ridge', 'pred_lasso', 'pred_enet', 'pred_lassolars']\n",
    "\n",
    "result.head()"
   ]
  },
  {
   "cell_type": "code",
   "execution_count": 17,
   "metadata": {},
   "outputs": [
    {
     "name": "stderr",
     "output_type": "stream",
     "text": [
      "/home/saileshg/sailspace/dev/pyprojects/mlenv/local/lib/python2.7/site-packages/sklearn/utils/validation.py:578: DataConversionWarning: A column-vector y was passed when a 1d array was expected. Please change the shape of y to (n_samples, ), for example using ravel().\n",
      "  y = column_or_1d(y, warn=True)\n"
     ]
    },
    {
     "data": {
      "text/html": [
       "<div>\n",
       "<style>\n",
       "    .dataframe thead tr:only-child th {\n",
       "        text-align: right;\n",
       "    }\n",
       "\n",
       "    .dataframe thead th {\n",
       "        text-align: left;\n",
       "    }\n",
       "\n",
       "    .dataframe tbody tr th {\n",
       "        vertical-align: top;\n",
       "    }\n",
       "</style>\n",
       "<table border=\"1\" class=\"dataframe\">\n",
       "  <thead>\n",
       "    <tr style=\"text-align: right;\">\n",
       "      <th></th>\n",
       "      <th>X</th>\n",
       "      <th>y</th>\n",
       "      <th>pred_linear</th>\n",
       "      <th>pred_ridge</th>\n",
       "      <th>pred_lasso</th>\n",
       "      <th>pred_enet</th>\n",
       "      <th>pred_lassolars</th>\n",
       "      <th>pred_bayesian</th>\n",
       "    </tr>\n",
       "  </thead>\n",
       "  <tbody>\n",
       "    <tr>\n",
       "      <th>0</th>\n",
       "      <td>0.077863</td>\n",
       "      <td>233.0</td>\n",
       "      <td>225.973240</td>\n",
       "      <td>225.674800</td>\n",
       "      <td>225.973240</td>\n",
       "      <td>225.943577</td>\n",
       "      <td>225.973240</td>\n",
       "      <td>225.631071</td>\n",
       "    </tr>\n",
       "    <tr>\n",
       "      <th>1</th>\n",
       "      <td>-0.039618</td>\n",
       "      <td>91.0</td>\n",
       "      <td>115.747634</td>\n",
       "      <td>115.902236</td>\n",
       "      <td>115.747634</td>\n",
       "      <td>115.763000</td>\n",
       "      <td>115.747634</td>\n",
       "      <td>115.924889</td>\n",
       "    </tr>\n",
       "    <tr>\n",
       "      <th>2</th>\n",
       "      <td>0.011039</td>\n",
       "      <td>111.0</td>\n",
       "      <td>163.276106</td>\n",
       "      <td>163.235360</td>\n",
       "      <td>163.276106</td>\n",
       "      <td>163.272056</td>\n",
       "      <td>163.276106</td>\n",
       "      <td>163.229390</td>\n",
       "    </tr>\n",
       "    <tr>\n",
       "      <th>3</th>\n",
       "      <td>-0.040696</td>\n",
       "      <td>152.0</td>\n",
       "      <td>114.736390</td>\n",
       "      <td>114.895149</td>\n",
       "      <td>114.736390</td>\n",
       "      <td>114.752169</td>\n",
       "      <td>114.736390</td>\n",
       "      <td>114.918411</td>\n",
       "    </tr>\n",
       "    <tr>\n",
       "      <th>4</th>\n",
       "      <td>-0.034229</td>\n",
       "      <td>120.0</td>\n",
       "      <td>120.803854</td>\n",
       "      <td>120.937675</td>\n",
       "      <td>120.803854</td>\n",
       "      <td>120.817155</td>\n",
       "      <td>120.803854</td>\n",
       "      <td>120.957283</td>\n",
       "    </tr>\n",
       "  </tbody>\n",
       "</table>\n",
       "</div>"
      ],
      "text/plain": [
       "          X      y  pred_linear  pred_ridge  pred_lasso   pred_enet  \\\n",
       "0  0.077863  233.0   225.973240  225.674800  225.973240  225.943577   \n",
       "1 -0.039618   91.0   115.747634  115.902236  115.747634  115.763000   \n",
       "2  0.011039  111.0   163.276106  163.235360  163.276106  163.272056   \n",
       "3 -0.040696  152.0   114.736390  114.895149  114.736390  114.752169   \n",
       "4 -0.034229  120.0   120.803854  120.937675  120.803854  120.817155   \n",
       "\n",
       "   pred_lassolars  pred_bayesian  \n",
       "0      225.973240     225.631071  \n",
       "1      115.747634     115.924889  \n",
       "2      163.276106     163.229390  \n",
       "3      114.736390     114.918411  \n",
       "4      120.803854     120.957283  "
      ]
     },
     "execution_count": 17,
     "metadata": {},
     "output_type": "execute_result"
    }
   ],
   "source": [
    "'''\n",
    "Bayesian Regression\n",
    "'''\n",
    "\n",
    "bayesianRidge = linear_model.BayesianRidge()\n",
    "bayesianRidge.fit(X_train, y_train)\n",
    "predictionsBayes = bayesianRidge.predict(X_test)\n",
    "\n",
    "resultDict = {}\n",
    "\n",
    "result = pd.concat([X_test, y_test, pd.DataFrame(predictions), pd.DataFrame(predictionsRidge), pd.DataFrame(predictionsLasso), pd.DataFrame(predictionsENet), pd.DataFrame(predictionsLassoLars), pd.DataFrame(predictionsBayes)], axis = 1)\n",
    "result.columns = ['X', 'y', 'pred_linear', 'pred_ridge', 'pred_lasso', 'pred_enet', 'pred_lassolars', 'pred_bayesian']\n",
    "\n",
    "resultDict['diabetes'] = result\n",
    "\n",
    "result.head()"
   ]
  }
 ],
 "metadata": {
  "kernelspec": {
   "display_name": "Python 2",
   "language": "python",
   "name": "python2"
  },
  "language_info": {
   "codemirror_mode": {
    "name": "ipython",
    "version": 2
   },
   "file_extension": ".py",
   "mimetype": "text/x-python",
   "name": "python",
   "nbconvert_exporter": "python",
   "pygments_lexer": "ipython2",
   "version": "2.7.12"
  }
 },
 "nbformat": 4,
 "nbformat_minor": 2
}
